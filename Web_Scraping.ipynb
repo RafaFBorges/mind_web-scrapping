{
 "cells": [
  {
   "cell_type": "markdown",
   "metadata": {},
   "source": [
    "# <font color=green>1. MEU PRIMEIRO SCRAPING"
   ]
  },
  {
   "cell_type": "markdown",
   "metadata": {},
   "source": [
    "# 1. Ambiente e bibliotecas"
   ]
  },
  {
   "cell_type": "code",
   "execution_count": 14,
   "metadata": {
    "colab": {},
    "colab_type": "code",
    "id": "e9pXIMIWByAp"
   },
   "outputs": [
    {
     "name": "stdout",
     "output_type": "stream",
     "text": [
      "BeautifulSoup -> 4.11.1\n",
      "urllib -> 3.8\n",
      "pandas -> 1.5.2\n"
     ]
    }
   ],
   "source": [
    "import time\n",
    "import re\n",
    "\n",
    "import bs4\n",
    "import urllib.request as urllib_request\n",
    "import pandas\n",
    "\n",
    "print(\"BeautifulSoup ->\", bs4.__version__)\n",
    "print(\"urllib ->\", urllib_request.__version__)\n",
    "print(\"pandas ->\", pandas.__version__)"
   ]
  },
  {
   "cell_type": "code",
   "execution_count": 2,
   "metadata": {},
   "outputs": [],
   "source": [
    "from bs4 import BeautifulSoup\n",
    "from selenium.webdriver.common.by import By\n",
    "from selenium.common.exceptions import StaleElementReferenceException\n",
    "from selenium import webdriver\n",
    "from selenium.webdriver.chrome.options import Options\n",
    "from selenium.webdriver.support.wait import WebDriverWait\n",
    "from selenium.webdriver.support import expected_conditions as EC\n",
    "from selenium.webdriver.common.action_chains import ActionChains"
   ]
  },
  {
   "cell_type": "markdown",
   "metadata": {},
   "source": [
    "### Convertando o tipo bytes para string"
   ]
  },
  {
   "cell_type": "code",
   "execution_count": 3,
   "metadata": {},
   "outputs": [],
   "source": [
    "def str_to_valid_str(str_data):\n",
    "    return \" \".join(str_data.split()).replace(\"> <\", \"><\")"
   ]
  },
  {
   "cell_type": "code",
   "execution_count": 4,
   "metadata": {},
   "outputs": [],
   "source": [
    "def bytes_to_valid_str(b_data):\n",
    "    str_data = b_data.decode(\"utf-8\")\n",
    "    return str_to_valid_str(str_data)"
   ]
  },
  {
   "cell_type": "code",
   "execution_count": 5,
   "metadata": {},
   "outputs": [],
   "source": [
    "def get_html(page):\n",
    "    html = str_to_valid_str(page)\n",
    "    \n",
    "    soup = BeautifulSoup(html, \"html.parser\")\n",
    "    return soup.prettify()"
   ]
  },
  {
   "cell_type": "code",
   "execution_count": 6,
   "metadata": {},
   "outputs": [],
   "source": [
    "def click_button(btn):\n",
    "    driver.execute_script(\"arguments[0].click();\", btn)"
   ]
  },
  {
   "cell_type": "code",
   "execution_count": 7,
   "metadata": {},
   "outputs": [],
   "source": [
    "def close_popup(driver):\n",
    "    try:\n",
    "        close_btn = None\n",
    "        btns = driver.find_elements(By.TAG_NAME, 'button')\n",
    "        for btn in btns:\n",
    "            if btn.text == \"Close\":\n",
    "                print(\"    Found button\")\n",
    "                close_btn = btn\n",
    "        if close_btn != None:\n",
    "            click_button(close_btn)\n",
    "\n",
    "    except StaleElementReferenceException as e:\n",
    "        print(\"\\n\\n\\n    Popup closed \", e.reason)"
   ]
  },
  {
   "cell_type": "code",
   "execution_count": 8,
   "metadata": {},
   "outputs": [],
   "source": [
    "def change_to_table_view(driver):\n",
    "    try:\n",
    "        close_btn = None\n",
    "        btns = driver.find_elements(By.TAG_NAME, 'button')\n",
    "        for btn in btns:\n",
    "            if btn.text == \"Table View\":\n",
    "                close_btn = btn\n",
    "        click_button(close_btn)\n",
    "\n",
    "    except StaleElementReferenceException as e:\n",
    "        print(\"\\n\\n\\n    Change to table view \", e.reason)"
   ]
  },
  {
   "cell_type": "code",
   "execution_count": 9,
   "metadata": {},
   "outputs": [],
   "source": [
    "def scroll_page(value):\n",
    "    element_list = driver.find_elements(\n",
    "        By.CSS_SELECTOR, \"div[data-test-id='virtuoso-scroller']\"\n",
    "    )\n",
    "    driver.execute_script(\"arguments[0].scroll(0,\" + str(value) + \");\", element_list[0])"
   ]
  },
  {
   "cell_type": "markdown",
   "metadata": {},
   "source": [
    "# 2. Meu primeiro scraping"
   ]
  },
  {
   "cell_type": "code",
   "execution_count": null,
   "metadata": {
    "scrolled": true
   },
   "outputs": [],
   "source": [
    "from urllib.request import Request, urlopen\n",
    "from urllib.error import URLError, HTTPError\n",
    "from bs4 import BeautifulSoup\n",
    "\n",
    "path = \"https://mindapps.org\"\n",
    "## path = \"https://boardgamegeek.com/\" ## Test path\n",
    "headers = {'User-Agent': 'Mozilla/5.0 (X11; Linux x86_64) AppleWebKit/537.36 (KHTML, like Gecko) Chrome/92.0.4515.131 Safari/537.36'}\n",
    "\n",
    "try:\n",
    "    req = Request(path, headers = headers)\n",
    "    response = urlopen(req)\n",
    "    html = response.read()\n",
    "    \n",
    "    html = bytes_to_valid_str(html)\n",
    "    \n",
    "    soup = BeautifulSoup(html, \"html.parser\")\n",
    "    print(soup.prettify())\n",
    "    \n",
    "except HTTpError as e:\n",
    "    print(e.status, e.reason)\n",
    "\n",
    "except URLError as e:\n",
    "    print(e.reason)"
   ]
  },
  {
   "cell_type": "markdown",
   "metadata": {},
   "source": [
    "# Selenium "
   ]
  },
  {
   "cell_type": "code",
   "execution_count": null,
   "metadata": {},
   "outputs": [
    {
     "name": "stderr",
     "output_type": "stream",
     "text": [
      "/tmp/ipykernel_13629/3344811575.py:6: DeprecationWarning: executable_path has been deprecated, please pass in a Service object\n",
      "  driver = webdriver.Chrome(options=options, executable_path=DRIVER_PATH)\n"
     ]
    },
    {
     "name": "stdout",
     "output_type": "stream",
     "text": [
      "6\n",
      "Cost:\n",
      "Free to Download\n",
      "Subscription\n",
      "In-App Purchase\n"
     ]
    }
   ],
   "source": [
    "options = Options()\n",
    "# options.headless = True\n",
    "options.add_argument(\"--window-size=1920,820\")\n",
    "\n",
    "DRIVER_PATH = '/home/pizzaisamor/chromedriver/chromedriver'\n",
    "driver = webdriver.Chrome(options=options, executable_path=DRIVER_PATH)\n",
    "\n",
    "driver.get('https://mindapps.org/Apps')\n",
    "\n",
    "driver.set_window_position(0, 0)\n",
    "driver.set_window_size(1920, 820)\n",
    "\n",
    "try:\n",
    "    element = WebDriverWait(driver, 10).until(\n",
    "        EC.visibility_of_element_located((By.ID, \"app-content\"))\n",
    "    )\n",
    "    \n",
    "    driver.set_window_size(1920, 820)\n",
    "    \n",
    "    # print(get_html(driver.page_source))\n",
    "    #close_popup(driver)\n",
    "    \n",
    "    time.sleep(15)\n",
    "    \n",
    "    # change_to_table_view(driver)\n",
    "    \n",
    "    #table = driver.find_element(\n",
    "    #    By.XPATH, '//*[@id=\"app-content\"]/div[2]/div[3]/div[2]/div/div/div[1]/div[1]/div[2]/div/div[2]/div/div'\n",
    "    #)\n",
    "    \n",
    "    # Find first card\n",
    "    navigate = driver.find_element(\n",
    "        By.XPATH, '//*[@id=\"app-content\"]/div[2]/div[3]/div[2]/div/div/div[1]/div/div/div[1]/div'\n",
    "    )\n",
    "    \n",
    "    click_button(navigate) # Click on the card\n",
    "    \n",
    "    time.sleep(5) # Load page\n",
    "    # Get info about number of comments\n",
    "    coments_info = driver.find_element(\n",
    "        By.XPATH, '//*[@id=\"app-content\"]/div[2]/div/div[4]/div/div[4]'\n",
    "    )\n",
    "\n",
    "    time.sleep(10) # Load info\n",
    "    quant = re.split('\\)|\\(', coments_info.text)[1] # Get coments quantity\n",
    "    print(quant)\n",
    "    \n",
    "    # Get cost line\n",
    "    cost = driver.find_element(\n",
    "        By.XPATH, '//*[@id=\"app-content\"]/div[2]/div/div[4]/div/div[5]/div/div/div[3]'\n",
    "    )\n",
    "    print(cost.text)\n",
    "    \n",
    "    driver.back()\n",
    "    \n",
    "    #for i in range(16):\n",
    "    #    element = driver.find_element(\n",
    "    #        By.XPATH, \n",
    "    #        '//*[@id=\"app-content\"]/div[2]/div[3]/div[2]/div/div/div[1]/div[1]/div[2]/div/div[2]/div/div/div[' \n",
    "    #        + str(i + 1) \n",
    "    #        + ']'\n",
    "    #    )\n",
    "    \n",
    "    #    print(element.text, \"\\n\\n\")\n",
    "    \n",
    "    time.sleep(1000)\n",
    "    \n",
    "finally:\n",
    "    driver.quit()"
   ]
  },
  {
   "cell_type": "markdown",
   "metadata": {
    "colab": {},
    "colab_type": "code",
    "id": "BsfhL3sZFRZu"
   },
   "source": [
    "---\n",
    "# <font color=green>3. INTRODUÇÃO AO BEAUTIFULSOUP"
   ]
  },
  {
   "cell_type": "markdown",
   "metadata": {},
   "source": [
    "# 3.2. Criando um objeto BeautifulSoup"
   ]
  },
  {
   "cell_type": "markdown",
   "metadata": {},
   "source": [
    "## https://www.crummy.com/software/BeautifulSoup/\n",
    "\n",
    "### Sobre parser ver: https://www.crummy.com/software/BeautifulSoup/bs4/doc/#parser-installation"
   ]
  },
  {
   "cell_type": "code",
   "execution_count": null,
   "metadata": {
    "scrolled": true
   },
   "outputs": [],
   "source": [
    "<div class=\"ReactVirtualized__Grid__innerScrollContainer\" role=\"rowgroup\" style=\"width: 1855px; height: 18864px; max-width: 1855px; max-height: 18864px; overflow: hidden; position: relative;\"><div class=\"MuiTableCell-root MuiTableCell-sizeSmall jss118 jss115 css-i7bgym\" style=\"height: 48px; left: 0px; position: absolute; top: 0px; width: 330px; padding-left: 16px; padding-right: 0px;\"><div class=\"jss123\"><span style=\"flex: 1 1 auto;\"><ul class=\"MuiList-root MuiList-dense css-1uzmcsd\"><li class=\"MuiListItem-root MuiListItem-dense MuiListItem-padding css-1vqoiez\"><div class=\"MuiListItemAvatar-root css-a5kqs7\" style=\"min-width: 48px;\"><img src=\"https://play-lh.googleusercontent.com/o9trIu4yGHdKMSnCNm9XLWucQBJNc_k1wtwskN-dldNzMI1YFZ97a50TvXPr4OR30L4\" alt=\"logo\" style=\"height: 40px;\"></div><div class=\"MuiListItemText-root MuiListItemText-dense MuiListItemText-multiline css-1xar93x\"><span class=\"MuiTypography-root MuiTypography-body2 MuiListItemText-primary css-f00wsl\">&lrm;MyPossibleSelf: Mental Health</span><p class=\"MuiTypography-root MuiTypography-body2 MuiListItemText-secondary css-14bis4s\"> by My Possible Self Ltd</p></div></li></ul></span><span style=\"float: right;\"></span></div></div><div class=\"MuiTableCell-root MuiTableCell-sizeSmall jss118 jss115 css-i7bgym\" style=\"height: 48px; left: 330px; position: absolute; top: 0px; width: 225px; padding-left: 16px; padding-right: 0px;\"><div class=\"jss123\"><span style=\"flex: 1 1 auto;\"><p class=\"MuiTypography-root MuiTypography-body2 css-ldokli\">Mon Nov 14th 2022 2:00 PM</p></span><span style=\"float: right;\"></span></div></div><div class=\"MuiTableCell-root MuiTableCell-sizeSmall jss118 jss115 css-i7bgym\" style=\"height: 48px; left: 0px; position: absolute; top: 48px; width: 330px; padding-left: 16px; padding-right: 0px;\"><div class=\"jss123\"><span style=\"flex: 1 1 auto;\"><ul class=\"MuiList-root MuiList-dense css-1uzmcsd\"><li class=\"MuiListItem-root MuiListItem-dense MuiListItem-padding css-1vqoiez\"><div class=\"MuiListItemAvatar-root css-a5kqs7\" style=\"min-width: 48px;\"><img src=\"https://play-lh.googleusercontent.com/m8C1o9X_5g2sSU8YNb5SL7jMqRMfPX3YisZe8lN0WLZ8pd5qKIXDk4EGA_0_CmTFKOI\" alt=\"logo\" style=\"height: 40px;\"></div><div class=\"MuiListItemText-root MuiListItemText-dense MuiListItemText-multiline css-1xar93x\"><span class=\"MuiTypography-root MuiTypography-body2 MuiListItemText-primary css-f00wsl\">zSober AA, AA Meetings,Rehab</span><p class=\"MuiTypography-root MuiTypography-body2 MuiListItemText-secondary css-14bis4s\"> by Kenyon Avenue LLC</p></div></li></ul></span><span style=\"float: right;\"></span></div></div><div class=\"MuiTableCell-root MuiTableCell-sizeSmall jss118 jss115 css-i7bgym\" style=\"height: 48px; left: 330px; position: absolute; top: 48px; width: 225px; padding-left: 16px; padding-right: 0px;\"><div class=\"jss123\"><span style=\"flex: 1 1 auto;\"><p class=\"MuiTypography-root MuiTypography-body2 css-ldokli\">Fri Dec 9th 2022 5:56 PM</p></span><span style=\"float: right;\"></span></div></div><div class=\"MuiTableCell-root MuiTableCell-sizeSmall jss118 jss115 css-i7bgym\" style=\"height: 48px; left: 0px; position: absolute; top: 96px; width: 330px; padding-left: 16px; padding-right: 0px;\"><div class=\"jss123\"><span style=\"flex: 1 1 auto;\"><ul class=\"MuiList-root MuiList-dense css-1uzmcsd\"><li class=\"MuiListItem-root MuiListItem-dense MuiListItem-padding css-1vqoiez\"><div class=\"MuiListItemAvatar-root css-a5kqs7\" style=\"min-width: 48px;\"><img src=\"https://play-lh.googleusercontent.com/zooKtA1eYO7PEwhcvO7TudUKFhmcQMUGQpsjDoEtAiHvddlr9xedlvMarCWNw688_3M\" alt=\"logo\" style=\"height: 40px;\"></div><div class=\"MuiListItemText-root MuiListItemText-dense MuiListItemText-multiline css-1xar93x\"><span class=\"MuiTypography-root MuiTypography-body2 MuiListItemText-primary css-f00wsl\">Zemedy: The IBS Care Program</span><p class=\"MuiTypography-root MuiTypography-body2 MuiListItemText-secondary css-14bis4s\"> by Bold Health</p></div></li></ul></span><span style=\"float: right;\"></span></div></div><div class=\"MuiTableCell-root MuiTableCell-sizeSmall jss118 jss115 css-i7bgym\" style=\"height: 48px; left: 330px; position: absolute; top: 96px; width: 225px; padding-left: 16px; padding-right: 0px;\"><div class=\"jss123\"><span style=\"flex: 1 1 auto;\"><p class=\"MuiTypography-root MuiTypography-body2 css-ldokli\">Mon Sep 12th 2022 10:53 AM</p></span><span style=\"float: right;\"></span></div></div><div class=\"MuiTableCell-root MuiTableCell-sizeSmall jss118 jss115 css-i7bgym\" style=\"height: 48px; left: 0px; position: absolute; top: 144px; width: 330px; padding-left: 16px; padding-right: 0px;\"><div class=\"jss123\"><span style=\"flex: 1 1 auto;\"><ul class=\"MuiList-root MuiList-dense css-1uzmcsd\"><li class=\"MuiListItem-root MuiListItem-dense MuiListItem-padding css-1vqoiez\"><div class=\"MuiListItemAvatar-root css-a5kqs7\" style=\"min-width: 48px;\"><img src=\"https://play-lh.googleusercontent.com/_0v_dDm_VqcAPfFbWlga7HhFftNVr2D-SIPaULwbbgi4OT-gAOHoa6Nw6EbFUmHtDI0\" alt=\"logo\" style=\"height: 40px;\"></div><div class=\"MuiListItemText-root MuiListItemText-dense MuiListItemText-multiline css-1xar93x\"><span class=\"MuiTypography-root MuiTypography-body2 MuiListItemText-primary css-f00wsl\">Youper: Self-Guided Therapy</span><p class=\"MuiTypography-root MuiTypography-body2 MuiListItemText-secondary css-14bis4s\"> by Youper, Inc</p></div></li></ul></span><span style=\"float: right;\"></span></div></div><div class=\"MuiTableCell-root MuiTableCell-sizeSmall jss118 jss115 css-i7bgym\" style=\"height: 48px; left: 330px; position: absolute; top: 144px; width: 225px; padding-left: 16px; padding-right: 0px;\"><div class=\"jss123\"><span style=\"flex: 1 1 auto;\"><p class=\"MuiTypography-root MuiTypography-body2 css-ldokli\">Mon Nov 14th 2022 1:17 PM</p></span><span style=\"float: right;\"></span></div></div><div class=\"MuiTableCell-root MuiTableCell-sizeSmall jss118 jss115 css-i7bgym\" style=\"height: 48px; left: 0px; position: absolute; top: 192px; width: 330px; padding-left: 16px; padding-right: 0px;\"><div class=\"jss123\"><span style=\"flex: 1 1 auto;\"><ul class=\"MuiList-root MuiList-dense css-1uzmcsd\"><li class=\"MuiListItem-root MuiListItem-dense MuiListItem-padding css-1vqoiez\"><div class=\"MuiListItemAvatar-root css-a5kqs7\" style=\"min-width: 48px;\"><img src=\"https://play-lh.googleusercontent.com/nmq0ycufXByhHXh6TTYPfnDwkWp9I6yNaVSmW_d5hEax_VbrzwluJQi0dI4lCiJcn60n\" alt=\"logo\" style=\"height: 40px;\"></div><div class=\"MuiListItemText-root MuiListItemText-dense MuiListItemText-multiline css-1xar93x\"><span class=\"MuiTypography-root MuiTypography-body2 MuiListItemText-primary css-f00wsl\">You Can Quit Smoking</span><p class=\"MuiTypography-root MuiTypography-body2 MuiListItemText-secondary css-14bis4s\"> by CityApps Digital Services</p></div></li></ul></span><span style=\"float: right;\"></span></div></div><div class=\"MuiTableCell-root MuiTableCell-sizeSmall jss118 jss115 css-i7bgym\" style=\"height: 48px; left: 330px; position: absolute; top: 192px; width: 225px; padding-left: 16px; padding-right: 0px;\"><div class=\"jss123\"><span style=\"flex: 1 1 auto;\"><p class=\"MuiTypography-root MuiTypography-body2 css-ldokli\">Tue July 19th 2022 11:56 AM</p></span><span style=\"float: right;\"></span></div></div><div class=\"MuiTableCell-root MuiTableCell-sizeSmall jss118 jss115 css-i7bgym\" style=\"height: 48px; left: 0px; position: absolute; top: 240px; width: 330px; padding-left: 16px; padding-right: 0px;\"><div class=\"jss123\"><span style=\"flex: 1 1 auto;\"><ul class=\"MuiList-root MuiList-dense css-1uzmcsd\"><li class=\"MuiListItem-root MuiListItem-dense MuiListItem-padding css-1vqoiez\"><div class=\"MuiListItemAvatar-root css-a5kqs7\" style=\"min-width: 48px;\"><img src=\"https://play-lh.googleusercontent.com/_2t27Nwv0sJgq3XsUCP-haxf0C17xzIEVtO4Pfrp_cSJG-VJAWzIC0DAlVF2kEx8ol2M\" alt=\"logo\" style=\"height: 40px;\"></div><div class=\"MuiListItemText-root MuiListItemText-dense MuiListItemText-multiline css-1xar93x\"><span class=\"MuiTypography-root MuiTypography-body2 MuiListItemText-primary css-f00wsl\">Wysa: Anxiety, therapy chatbot</span><p class=\"MuiTypography-root MuiTypography-body2 MuiListItemText-secondary css-14bis4s\"> by Touchkin</p></div></li></ul></span><span style=\"float: right;\"></span></div></div><div class=\"MuiTableCell-root MuiTableCell-sizeSmall jss118 jss115 css-i7bgym\" style=\"height: 48px; left: 330px; position: absolute; top: 240px; width: 225px; padding-left: 16px; padding-right: 0px;\"><div class=\"jss123\"><span style=\"flex: 1 1 auto;\"><p class=\"MuiTypography-root MuiTypography-body2 css-ldokli\">Mon Aug 22nd 2022 10:31 AM</p></span><span style=\"float: right;\"></span></div></div><div class=\"MuiTableCell-root MuiTableCell-sizeSmall jss118 jss115 css-i7bgym\" style=\"height: 48px; left: 0px; position: absolute; top: 288px; width: 330px; padding-left: 16px; padding-right: 0px;\"><div class=\"jss123\"><span style=\"flex: 1 1 auto;\"><ul class=\"MuiList-root MuiList-dense css-1uzmcsd\"><li class=\"MuiListItem-root MuiListItem-dense MuiListItem-padding css-1vqoiez\"><div class=\"MuiListItemAvatar-root css-a5kqs7\" style=\"min-width: 48px;\"><img src=\"https://is4-ssl.mzstatic.com/image/thumb/Purple116/v4/31/59/e0/3159e08e-8894-c3f7-aca1-663e12808372/AppIcon-1x_U007emarketing-0-10-0-85-220.png/512x512bb.jpg\" alt=\"logo\" style=\"height: 40px;\"></div><div class=\"MuiListItemText-root MuiListItemText-dense MuiListItemText-multiline css-1xar93x\"><span class=\"MuiTypography-root MuiTypography-body2 MuiListItemText-primary css-f00wsl\">Worry Watch: Anxiety &amp; Mood</span><p class=\"MuiTypography-root MuiTypography-body2 MuiListItemText-secondary css-14bis4s\"> by Akilan Rajendran</p></div></li></ul></span><span style=\"float: right;\"></span></div></div><div class=\"MuiTableCell-root MuiTableCell-sizeSmall jss118 jss115 css-i7bgym\" style=\"height: 48px; left: 330px; position: absolute; top: 288px; width: 225px; padding-left: 16px; padding-right: 0px;\"><div class=\"jss123\"><span style=\"flex: 1 1 auto;\"><p class=\"MuiTypography-root MuiTypography-body2 css-ldokli\">Mon July 11th 2022 4:52 PM</p></span><span style=\"float: right;\"></span></div></div><div class=\"MuiTableCell-root MuiTableCell-sizeSmall jss118 jss115 css-i7bgym\" style=\"height: 48px; left: 0px; position: absolute; top: 336px; width: 330px; padding-left: 16px; padding-right: 0px;\"><div class=\"jss123\"><span style=\"flex: 1 1 auto;\"><ul class=\"MuiList-root MuiList-dense css-1uzmcsd\"><li class=\"MuiListItem-root MuiListItem-dense MuiListItem-padding css-1vqoiez\"><div class=\"MuiListItemAvatar-root css-a5kqs7\" style=\"min-width: 48px;\"><img src=\"https://play-lh.googleusercontent.com/3Rz4MJY4cyH5B3h1ql0JGapQlP9GKgbvWIP10g1mBAJliywDM8C41wbKByD_H9rq2A\" alt=\"logo\" style=\"height: 40px;\"></div><div class=\"MuiListItemText-root MuiListItemText-dense MuiListItemText-multiline css-1xar93x\"><span class=\"MuiTypography-root MuiTypography-body2 MuiListItemText-primary css-f00wsl\">Worry Knot</span><p class=\"MuiTypography-root MuiTypography-body2 MuiListItemText-secondary css-14bis4s\"> by IntelliCare</p></div></li></ul></span><span style=\"float: right;\"></span></div></div><div class=\"MuiTableCell-root MuiTableCell-sizeSmall jss118 jss115 css-i7bgym\" style=\"height: 48px; left: 330px; position: absolute; top: 336px; width: 225px; padding-left: 16px; padding-right: 0px;\"><div class=\"jss123\"><span style=\"flex: 1 1 auto;\"><p class=\"MuiTypography-root MuiTypography-body2 css-ldokli\">Tue Nov 15th 2022 6:37 PM</p></span><span style=\"float: right;\"></span></div></div><div class=\"MuiTableCell-root MuiTableCell-sizeSmall jss118 jss115 css-i7bgym\" style=\"height: 48px; left: 0px; position: absolute; top: 384px; width: 330px; padding-left: 16px; padding-right: 0px;\"><div class=\"jss123\"><span style=\"flex: 1 1 auto;\"><ul class=\"MuiList-root MuiList-dense css-1uzmcsd\"><li class=\"MuiListItem-root MuiListItem-dense MuiListItem-padding css-1vqoiez\"><div class=\"MuiListItemAvatar-root css-a5kqs7\" style=\"min-width: 48px;\"><img src=\"https://play-lh.googleusercontent.com/rjrDgxHyBABwzGXfckxdNPhRgXxCkG6AXeTxhH86ZaYv3iw3Qzn69luxlQ_s-a9wuwc\" alt=\"logo\" style=\"height: 40px;\"></div><div class=\"MuiListItemText-root MuiListItemText-dense MuiListItemText-multiline css-1xar93x\"><span class=\"MuiTypography-root MuiTypography-body2 MuiListItemText-primary css-f00wsl\">Womaze: Self-Care &amp; Motivation</span><p class=\"MuiTypography-root MuiTypography-body2 MuiListItemText-secondary css-14bis4s\"> by Womaze App</p></div></li></ul></span><span style=\"float: right;\"></span></div></div><div class=\"MuiTableCell-root MuiTableCell-sizeSmall jss118 jss115 css-i7bgym\" style=\"height: 48px; left: 330px; position: absolute; top: 384px; width: 225px; padding-left: 16px; padding-right: 0px;\"><div class=\"jss123\"><span style=\"flex: 1 1 auto;\"><p class=\"MuiTypography-root MuiTypography-body2 css-ldokli\">Tue Nov 15th 2022 6:16 PM</p></span><span style=\"float: right;\"></span></div></div><div class=\"MuiTableCell-root MuiTableCell-sizeSmall jss118 jss115 css-i7bgym\" style=\"height: 48px; left: 0px; position: absolute; top: 432px; width: 330px; padding-left: 16px; padding-right: 0px;\"><div class=\"jss123\"><span style=\"flex: 1 1 auto;\"><ul class=\"MuiList-root MuiList-dense css-1uzmcsd\"><li class=\"MuiListItem-root MuiListItem-dense MuiListItem-padding css-1vqoiez\"><div class=\"MuiListItemAvatar-root css-a5kqs7\" style=\"min-width: 48px;\"><img src=\"https://play-lh.googleusercontent.com/a3y33ApEs0aQW5xOn4NwO2Rw1WKP9j3A3dIrDwtHnIPsRCaCfS7973zFYFkSN7TwKLk\" alt=\"logo\" style=\"height: 40px;\"></div><div class=\"MuiListItemText-root MuiListItemText-dense MuiListItemText-multiline css-1xar93x\"><span class=\"MuiTypography-root MuiTypography-body2 MuiListItemText-primary css-f00wsl\">Woebot: Your Self-Care Expert</span><p class=\"MuiTypography-root MuiTypography-body2 MuiListItemText-secondary css-14bis4s\"> by Woebot Health Inc</p></div></li></ul></span><span style=\"float: right;\"></span></div></div><div class=\"MuiTableCell-root MuiTableCell-sizeSmall jss118 jss115 css-i7bgym\" style=\"height: 48px; left: 330px; position: absolute; top: 432px; width: 225px; padding-left: 16px; padding-right: 0px;\"><div class=\"jss123\"><span style=\"flex: 1 1 auto;\"><p class=\"MuiTypography-root MuiTypography-body2 css-ldokli\">Tue Oct 25th 2022 5:52 PM</p></span><span style=\"float: right;\"></span></div></div><div class=\"MuiTableCell-root MuiTableCell-sizeSmall jss118 jss115 css-i7bgym\" style=\"height: 48px; left: 0px; position: absolute; top: 480px; width: 330px; padding-left: 16px; padding-right: 0px;\"><div class=\"jss123\"><span style=\"flex: 1 1 auto;\"><ul class=\"MuiList-root MuiList-dense css-1uzmcsd\"><li class=\"MuiListItem-root MuiListItem-dense MuiListItem-padding css-1vqoiez\"><div class=\"MuiListItemAvatar-root css-a5kqs7\" style=\"min-width: 48px;\"><img src=\"https://play-lh.googleusercontent.com/dCyVtayN9PXA-h3f03sWIWMWxt25IZ7nG6yWSog-oioc78nO4QKC4P-q7vowNY6ZrO4\" alt=\"logo\" style=\"height: 40px;\"></div><div class=\"MuiListItemText-root MuiListItemText-dense MuiListItemText-multiline css-1xar93x\"><span class=\"MuiTypography-root MuiTypography-body2 MuiListItemText-primary css-f00wsl\">Wisdo: Mental Health &amp; Support</span><p class=\"MuiTypography-root MuiTypography-body2 MuiListItemText-secondary css-14bis4s\"> by Wisdo LTD.</p></div></li></ul></span><span style=\"float: right;\"></span></div></div><div class=\"MuiTableCell-root MuiTableCell-sizeSmall jss118 jss115 css-i7bgym\" style=\"height: 48px; left: 330px; position: absolute; top: 480px; width: 225px; padding-left: 16px; padding-right: 0px;\"><div class=\"jss123\"><span style=\"flex: 1 1 auto;\"><p class=\"MuiTypography-root MuiTypography-body2 css-ldokli\">Sat Oct 15th 2022 4:09 PM</p></span><span style=\"float: right;\"></span></div></div><div class=\"MuiTableCell-root MuiTableCell-sizeSmall jss118 jss115 css-i7bgym\" style=\"height: 48px; left: 0px; position: absolute; top: 528px; width: 330px; padding-left: 16px; padding-right: 0px;\"><div class=\"jss123\"><span style=\"flex: 1 1 auto;\"><ul class=\"MuiList-root MuiList-dense css-1uzmcsd\"><li class=\"MuiListItem-root MuiListItem-dense MuiListItem-padding css-1vqoiez\"><div class=\"MuiListItemAvatar-root css-a5kqs7\" style=\"min-width: 48px;\"><img src=\"https://play-lh.googleusercontent.com/EuBjyvSmvSa_1mizO8MhqX1fgqvnfxLbCx1iB4C4zYpW23t0wYet6dJWxUiWIRKO6w4\" alt=\"logo\" style=\"height: 40px;\"></div><div class=\"MuiListItemText-root MuiListItemText-dense MuiListItemText-multiline css-1xar93x\"><span class=\"MuiTypography-root MuiTypography-body2 MuiListItemText-primary css-f00wsl\">White Noise Sleep Sounds: rain, nature, and more</span><p class=\"MuiTypography-root MuiTypography-body2 MuiListItemText-secondary css-14bis4s\"> by Ipnos Software</p></div></li></ul></span><span style=\"float: right;\"></span></div></div><div class=\"MuiTableCell-root MuiTableCell-sizeSmall jss118 jss115 css-i7bgym\" style=\"height: 48px; left: 330px; position: absolute; top: 528px; width: 225px; padding-left: 16px; padding-right: 0px;\"><div class=\"jss123\"><span style=\"flex: 1 1 auto;\"><p class=\"MuiTypography-root MuiTypography-body2 css-ldokli\">Wed Aug 24th 2022 10:51 AM</p></span><span style=\"float: right;\"></span></div></div><div class=\"MuiTableCell-root MuiTableCell-sizeSmall jss118 jss115 css-i7bgym\" style=\"height: 48px; left: 0px; position: absolute; top: 576px; width: 330px; padding-left: 16px; padding-right: 0px;\"><div class=\"jss123\"><span style=\"flex: 1 1 auto;\"><ul class=\"MuiList-root MuiList-dense css-1uzmcsd\"><li class=\"MuiListItem-root MuiListItem-dense MuiListItem-padding css-1vqoiez\"><div class=\"MuiListItemAvatar-root css-a5kqs7\" style=\"min-width: 48px;\"><img src=\"https://play-lh.googleusercontent.com/Jb9-HxJx0KSHSfXE8xQ5m3L7c65KCU5_xz5He4fsPmRlpgGoaK5u_HHrju_fzQVDlQ\" alt=\"logo\" style=\"height: 40px;\"></div><div class=\"MuiListItemText-root MuiListItemText-dense MuiListItemText-multiline css-1xar93x\"><span class=\"MuiTypography-root MuiTypography-body2 MuiListItemText-primary css-f00wsl\">White Noise Pro - ASMR</span><p class=\"MuiTypography-root MuiTypography-body2 MuiListItemText-secondary css-14bis4s\"> by coolsharp</p></div></li></ul></span><span style=\"float: right;\"></span></div></div><div class=\"MuiTableCell-root MuiTableCell-sizeSmall jss118 jss115 css-i7bgym\" style=\"height: 48px; left: 330px; position: absolute; top: 576px; width: 225px; padding-left: 16px; padding-right: 0px;\"><div class=\"jss123\"><span style=\"flex: 1 1 auto;\"><p class=\"MuiTypography-root MuiTypography-body2 css-ldokli\">Tue Oct 4th 2022 4:16 PM</p></span><span style=\"float: right;\"></span></div></div><div class=\"MuiTableCell-root MuiTableCell-sizeSmall jss118 jss115 css-i7bgym\" style=\"height: 48px; left: 0px; position: absolute; top: 624px; width: 330px; padding-left: 16px; padding-right: 0px;\"><div class=\"jss123\"><span style=\"flex: 1 1 auto;\"><ul class=\"MuiList-root MuiList-dense css-1uzmcsd\"><li class=\"MuiListItem-root MuiListItem-dense MuiListItem-padding css-1vqoiez\"><div class=\"MuiListItemAvatar-root css-a5kqs7\" style=\"min-width: 48px;\"><img src=\"https://play-lh.googleusercontent.com/lt74xc_uXdwtWGp3ySv128QZ5__ixh67DNrkr8H5om11JAHl13W5A--wcooBztJA3HqH\" alt=\"logo\" style=\"height: 40px;\"></div><div class=\"MuiListItemText-root MuiListItemText-dense MuiListItemText-multiline css-1xar93x\"><span class=\"MuiTypography-root MuiTypography-body2 MuiListItemText-primary css-f00wsl\">What's Up? - Mental Health App</span><p class=\"MuiTypography-root MuiTypography-body2 MuiListItemText-secondary css-14bis4s\"> by Jackson Tempra</p></div></li></ul></span><span style=\"float: right;\"></span></div></div><div class=\"MuiTableCell-root MuiTableCell-sizeSmall jss118 jss115 css-i7bgym\" style=\"height: 48px; left: 330px; position: absolute; top: 624px; width: 225px; padding-left: 16px; padding-right: 0px;\"><div class=\"jss123\"><span style=\"flex: 1 1 auto;\"><p class=\"MuiTypography-root MuiTypography-body2 css-ldokli\">Thu July 28th 2022 11:41 AM</p></span><span style=\"float: right;\"></span></div></div><div class=\"MuiTableCell-root MuiTableCell-sizeSmall jss118 jss115 css-i7bgym\" style=\"height: 48px; left: 0px; position: absolute; top: 672px; width: 330px; padding-left: 16px; padding-right: 0px;\"><div class=\"jss123\"><span style=\"flex: 1 1 auto;\"><ul class=\"MuiList-root MuiList-dense css-1uzmcsd\"><li class=\"MuiListItem-root MuiListItem-dense MuiListItem-padding css-1vqoiez\"><div class=\"MuiListItemAvatar-root css-a5kqs7\" style=\"min-width: 48px;\"><img src=\"https://play-lh.googleusercontent.com/XCKsIir8qEzk8JVV0Ayl1eu7wrO67fQ6ZBGHBjiFLwpuLnLn_WPkDV1mUXz-0qrmxg\" alt=\"logo\" style=\"height: 40px;\"></div><div class=\"MuiListItemText-root MuiListItemText-dense MuiListItemText-multiline css-1xar93x\"><span class=\"MuiTypography-root MuiTypography-body2 MuiListItemText-primary css-f00wsl\">Welzen: meditations to relax, focus &amp; sleep better</span><p class=\"MuiTypography-root MuiTypography-body2 MuiListItemText-secondary css-14bis4s\"> by Welzen LLC.</p></div></li></ul></span><span style=\"float: right;\"></span></div></div><div class=\"MuiTableCell-root MuiTableCell-sizeSmall jss118 jss115 css-i7bgym\" style=\"height: 48px; left: 330px; position: absolute; top: 672px; width: 225px; padding-left: 16px; padding-right: 0px;\"><div class=\"jss123\"><span style=\"flex: 1 1 auto;\"><p class=\"MuiTypography-root MuiTypography-body2 css-ldokli\">Mon Aug 8th 2022 2:10 PM</p></span><span style=\"float: right;\"></span></div></div><div class=\"MuiTableCell-root MuiTableCell-sizeSmall jss118 jss115 css-i7bgym\" style=\"height: 48px; left: 0px; position: absolute; top: 720px; width: 330px; padding-left: 16px; padding-right: 0px;\"><div class=\"jss123\"><span style=\"flex: 1 1 auto;\"><ul class=\"MuiList-root MuiList-dense css-1uzmcsd\"><li class=\"MuiListItem-root MuiListItem-dense MuiListItem-padding css-1vqoiez\"><div class=\"MuiListItemAvatar-root css-a5kqs7\" style=\"min-width: 48px;\"><img src=\"https://play-lh.googleusercontent.com/qH-LGI_OtoDpIScIoGCadzLVqPjq_PXGKinK0wfBL1a5L_962XcLF6xkQYHZqqtHFYU\" alt=\"logo\" style=\"height: 40px;\"></div><div class=\"MuiListItemText-root MuiListItemText-dense MuiListItemText-multiline css-1xar93x\"><span class=\"MuiTypography-root MuiTypography-body2 MuiListItemText-primary css-f00wsl\">WellTrack - Interactive Self-Help Therapy</span><p class=\"MuiTypography-root MuiTypography-body2 MuiListItemText-secondary css-14bis4s\"> by ProtoCall Services</p></div></li></ul></span><span style=\"float: right;\"></span></div></div><div class=\"MuiTableCell-root MuiTableCell-sizeSmall jss118 jss115 css-i7bgym\" style=\"height: 48px; left: 330px; position: absolute; top: 720px; width: 225px; padding-left: 16px; padding-right: 0px;\"><div class=\"jss123\"><span style=\"flex: 1 1 auto;\"><p class=\"MuiTypography-root MuiTypography-body2 css-ldokli\">Thu July 21st 2022 3:12 PM</p></span><span style=\"float: right;\"></span></div></div><div class=\"MuiTableCell-root MuiTableCell-sizeSmall jss118 jss115 css-i7bgym\" style=\"height: 48px; left: 0px; position: absolute; top: 768px; width: 330px; padding-left: 16px; padding-right: 0px;\"><div class=\"jss123\"><span style=\"flex: 1 1 auto;\"><ul class=\"MuiList-root MuiList-dense css-1uzmcsd\"><li class=\"MuiListItem-root MuiListItem-dense MuiListItem-padding css-1vqoiez\"><div class=\"MuiListItemAvatar-root css-a5kqs7\" style=\"min-width: 48px;\"><img src=\"https://is3-ssl.mzstatic.com/image/thumb/Purple114/v4/97/46/3b/97463b2e-44e3-7d2e-eb95-e11f50b704c6/AppIcon-0-0-1x_U007emarketing-0-0-0-7-0-0-sRGB-0-0-0-GLES2_U002c0-512MB-85-220-0-0.png/512x512bb.jpg\" alt=\"logo\" style=\"height: 40px;\"></div><div class=\"MuiListItemText-root MuiListItemText-dense MuiListItemText-multiline css-1xar93x\"><span class=\"MuiTypography-root MuiTypography-body2 MuiListItemText-primary css-f00wsl\">Well - Feel Better</span><p class=\"MuiTypography-root MuiTypography-body2 MuiListItemText-secondary css-14bis4s\"> by Luni</p></div></li></ul></span><span style=\"float: right;\"></span></div></div><div class=\"MuiTableCell-root MuiTableCell-sizeSmall jss118 jss115 css-i7bgym\" style=\"height: 48px; left: 330px; position: absolute; top: 768px; width: 225px; padding-left: 16px; padding-right: 0px;\"><div class=\"jss123\"><span style=\"flex: 1 1 auto;\"><p class=\"MuiTypography-root MuiTypography-body2 css-ldokli\">Thu Dec 1st 2022 12:50 AM</p></span><span style=\"float: right;\"></span></div></div><div class=\"MuiTableCell-root MuiTableCell-sizeSmall jss118 jss115 css-i7bgym\" style=\"height: 48px; left: 0px; position: absolute; top: 816px; width: 330px; padding-left: 16px; padding-right: 0px;\"><div class=\"jss123\"><span style=\"flex: 1 1 auto;\"><ul class=\"MuiList-root MuiList-dense css-1uzmcsd\"><li class=\"MuiListItem-root MuiListItem-dense MuiListItem-padding css-1vqoiez\"><div class=\"MuiListItemAvatar-root css-a5kqs7\" style=\"min-width: 48px;\"><img src=\"https://play-lh.googleusercontent.com/G5Bdkmoe-7cfnmjGCYN_bvykyBSLyL9rrhETgh7JLEdKPWQGf7ZhnSjpnDNFI7EpaVk\" alt=\"logo\" style=\"height: 40px;\"></div><div class=\"MuiListItemText-root MuiListItemText-dense MuiListItemText-multiline css-1xar93x\"><span class=\"MuiTypography-root MuiTypography-body2 MuiListItemText-primary css-f00wsl\">WEconnect Recovery</span><p class=\"MuiTypography-root MuiTypography-body2 MuiListItemText-secondary css-14bis4s\"> by WEconnect</p></div></li></ul></span><span style=\"float: right;\"></span></div></div><div class=\"MuiTableCell-root MuiTableCell-sizeSmall jss118 jss115 css-i7bgym\" style=\"height: 48px; left: 330px; position: absolute; top: 816px; width: 225px; padding-left: 16px; padding-right: 0px;\"><div class=\"jss123\"><span style=\"flex: 1 1 auto;\"><p class=\"MuiTypography-root MuiTypography-body2 css-ldokli\">Tue Aug 30th 2022 12:57 AM</p></span><span style=\"float: right;\"></span></div></div></div>"
   ]
  },
  {
   "cell_type": "markdown",
   "metadata": {},
   "source": [
    "# 3.3. Acessando tags"
   ]
  },
  {
   "cell_type": "code",
   "execution_count": null,
   "metadata": {},
   "outputs": [],
   "source": [
    "//*[@id=\"app-content\"]/div[2]/div[3]/div[2]/div/div/div[1]/div[1]/div[2]/div/div[2]/div/div\n",
    "//*[@id=\"app-content\"]/div[2]/div[3]/div[2]/div/div/div[1]/div[1]/div[2]/div/div[2]/div/div/div[1]\n",
    "//*[@id=\"app-content\"]/div[2]/div[3]/div[2]/div/div/div[1]/div[1]/div[2]/div/div[2]/div/div/div[2]\n",
    "//*[@id=\"app-content\"]/div[2]/div[3]/div[2]/div/div/div[1]/div[1]/div[2]/div/div[2]/div/div/div[16]\n",
    "\n",
    "//*[@id=\"app-content\"]/div[2]/div[3]/div[2]/div/div/div[1]/div/div/div[1]/div\n",
    "//*[@id=\"app-content\"]/div[2]/div[3]/div[2]/div/div/div[1]/div/div\n",
    "\n",
    "//*[@id=\"app-content\"]/div[2]/div/div[4]/div/div[4]\n",
    "\n",
    "//*[@id=\"app-content\"]/div[2]/div/div[4]/div/div[5]/div/div/div[3] ## cost\n",
    "//*[@id=\"app-content\"]/div[2]/div/div[4]/div/div[5]/div/div/div[4] ## privacy\n",
    "//*[@id=\"app-content\"]/div[2]/div/div[4]/div/div[5]/div/div/div[5] ## clinical_foundation\n",
    "//*[@id=\"app-content\"]/div[2]/div/div[4]/div/div[5]/div/div/div[6] ## features\n",
    "//*[@id=\"app-content\"]/div[2]/div/div[4]/div/div[5]/div/div/div[7] ## condition_supported\n",
    "//*[@id=\"app-content\"]/div[2]/div/div[4]/div/div[5]/div/div/div[8] ## engagements\n",
    "//*[@id=\"app-content\"]/div[2]/div/div[4]/div/div[5]/div/div/div[9] ## inputs\n",
    "//*[@id=\"app-content\"]/div[2]/div/div[4]/div/div[5]/div/div/div[10] ## outputs\n",
    "//*[@id=\"app-content\"]/div[2]/div/div[4]/div/div[5]/div/div/div[11] ## uses\n",
    "//*[@id=\"app-content\"]/div[2]/div/div[4]/div/div[5]/div/div/div[12] ## developer_types\n",
    "//*[@id=\"app-content\"]/div[2]/div/div[4]/div/div[5]/div/div/div[13] ##access\n",
    "\n",
    "//*[@id=\"app-content\"]/div[2]/div/div[4]/div/div[6]/div/nav/ul/li[1] # <\n",
    "//*[@id=\"app-content\"]/div[2]/div/div[4]/div/div[6]/div/nav/ul/li[2] # 1\n",
    "//*[@id=\"app-content\"]/div[2]/div/div[4]/div/div[6]/div/nav/ul/li[6] # 5"
   ]
  },
  {
   "cell_type": "markdown",
   "metadata": {},
   "source": [
    "# 3.4. Acessando o conteúdo das tags"
   ]
  },
  {
   "cell_type": "code",
   "execution_count": null,
   "metadata": {},
   "outputs": [],
   "source": []
  },
  {
   "cell_type": "markdown",
   "metadata": {},
   "source": [
    "# 3.5. Acessando os atributos de uma tag"
   ]
  },
  {
   "cell_type": "code",
   "execution_count": null,
   "metadata": {},
   "outputs": [],
   "source": [
    "\n"
   ]
  },
  {
   "cell_type": "markdown",
   "metadata": {},
   "source": [
    "---\n",
    "# <font color=green>4. PESQUISANDO COM O BEAUTIFULSOUP"
   ]
  },
  {
   "cell_type": "markdown",
   "metadata": {},
   "source": [
    "# 4.1. Os métodos *find()* e *findAll()*"
   ]
  },
  {
   "cell_type": "markdown",
   "metadata": {},
   "source": [
    "- ### *find(tag, attributes, recursive, text, **kwargs)*\n",
    "\n",
    "- ### *findAll(tag, attributes, recursive, text, limit, **kwargs)*\n",
    "\n",
    "#### https://www.crummy.com/software/BeautifulSoup/bs4/doc/#find\n",
    "#### https://www.crummy.com/software/BeautifulSoup/bs4/doc/#find-all\n",
    "\n",
    "> **Observação:**\n",
    "> - *findAll()* também pode ser utilizado como *find_all()*"
   ]
  },
  {
   "cell_type": "markdown",
   "metadata": {},
   "source": [
    "### Método *find()*"
   ]
  },
  {
   "cell_type": "code",
   "execution_count": null,
   "metadata": {},
   "outputs": [],
   "source": []
  },
  {
   "cell_type": "code",
   "execution_count": null,
   "metadata": {},
   "outputs": [],
   "source": []
  },
  {
   "cell_type": "markdown",
   "metadata": {},
   "source": [
    "### Método *findAll()*"
   ]
  },
  {
   "cell_type": "code",
   "execution_count": null,
   "metadata": {},
   "outputs": [],
   "source": []
  },
  {
   "cell_type": "markdown",
   "metadata": {},
   "source": [
    "### Comando equivalente ao método *find()*"
   ]
  },
  {
   "cell_type": "code",
   "execution_count": null,
   "metadata": {},
   "outputs": [],
   "source": []
  },
  {
   "cell_type": "markdown",
   "metadata": {},
   "source": [
    "### Atalho para o método *findAll()*"
   ]
  },
  {
   "cell_type": "code",
   "execution_count": null,
   "metadata": {},
   "outputs": [],
   "source": []
  },
  {
   "cell_type": "markdown",
   "metadata": {},
   "source": [
    "### Passando listas de TAGs"
   ]
  },
  {
   "cell_type": "code",
   "execution_count": null,
   "metadata": {},
   "outputs": [],
   "source": []
  },
  {
   "cell_type": "markdown",
   "metadata": {},
   "source": [
    "### Utilizando o argumento *attributes*"
   ]
  },
  {
   "cell_type": "code",
   "execution_count": null,
   "metadata": {
    "scrolled": true
   },
   "outputs": [],
   "source": []
  },
  {
   "cell_type": "markdown",
   "metadata": {},
   "source": [
    "### Buscando por conteúdo de uma TAG"
   ]
  },
  {
   "cell_type": "code",
   "execution_count": null,
   "metadata": {},
   "outputs": [],
   "source": []
  },
  {
   "cell_type": "markdown",
   "metadata": {},
   "source": [
    "### Utilizando diretamente os atributos"
   ]
  },
  {
   "cell_type": "code",
   "execution_count": null,
   "metadata": {},
   "outputs": [],
   "source": []
  },
  {
   "cell_type": "code",
   "execution_count": null,
   "metadata": {},
   "outputs": [],
   "source": []
  },
  {
   "cell_type": "markdown",
   "metadata": {},
   "source": [
    "### Cuidado com o atributo \"class\""
   ]
  },
  {
   "cell_type": "code",
   "execution_count": null,
   "metadata": {},
   "outputs": [],
   "source": []
  },
  {
   "cell_type": "markdown",
   "metadata": {},
   "source": [
    "### Obtendo todo o conteúdo de texto de uma página"
   ]
  },
  {
   "cell_type": "code",
   "execution_count": null,
   "metadata": {},
   "outputs": [],
   "source": []
  },
  {
   "cell_type": "markdown",
   "metadata": {},
   "source": [
    "# 4.2. Outros métodos de pesquisa"
   ]
  },
  {
   "cell_type": "markdown",
   "metadata": {},
   "source": [
    "- ### *findParent(tag, attributes, text, **kwargs)*\n",
    "\n",
    "- ### *findParents(tag, attributes, text, limit, **kwargs)*\n",
    "\n",
    "#### https://www.crummy.com/software/BeautifulSoup/bs4/doc/#find-parents-and-find-parent\n",
    "\n",
    "> **Observação:**\n",
    "> - *findParent()* e *findParents()* também podem ser utilizados como *find_parent()* e *find_parents()*, respectivamente.\n",
    "---\n",
    "- ### *findNextSibling(tag, attributes, text, **kwargs)*\n",
    "\n",
    "- ### *findNextSiblings(tag, attributes, text, limit, **kwargs)*\n",
    "\n",
    "- ### *findPreviousSibling(tag, attributes, text, **kwargs)*\n",
    "\n",
    "- ### *findPreviousSiblings(tag, attributes, text, limit, **kwargs)*\n",
    "\n",
    "#### https://www.crummy.com/software/BeautifulSoup/bs4/doc/#find-next-siblings-and-find-next-sibling\n",
    "#### https://www.crummy.com/software/BeautifulSoup/bs4/doc/#find-previous-siblings-and-find-previous-sibling\n",
    "\n",
    "> **Observação:**\n",
    "> - *findNextSibling()*, *findNextSiblings()*, *findPreviousSibling()* e *findPreviousSiblings()* também podem ser utilizados como *find_next_sibling()*, *find_next_siblings()*, *find_previous_sibling()* e *find_previous_siblings()*, respectivamente.\n",
    "---\n",
    "- ### *findNext(tag, attributes, text, **kwargs)*\n",
    "\n",
    "- ### *findAllNext(tag, attributes, text, limit, **kwargs)*\n",
    "\n",
    "- ### *findPrevious(tag, attributes, text, **kwargs)*\n",
    "\n",
    "- ### *findAllPrevious(tag, attributes, text, limit, **kwargs)*\n",
    "\n",
    "#### https://www.crummy.com/software/BeautifulSoup/bs4/doc/#find-all-next-and-find-next\n",
    "#### https://www.crummy.com/software/BeautifulSoup/bs4/doc/#find-all-previous-and-find-previous\n",
    "\n",
    "> **Observação:**\n",
    "> - *findNext()*, *findAllNext()*, *findPrevious* e *findAllPrevious* também podem ser utilizados como *find_next()*, *find_all_next()*, *find_previous()* e *find_all_previous()*, respectivamente."
   ]
  },
  {
   "cell_type": "markdown",
   "metadata": {},
   "source": [
    "## HTML de exemplo para ilustrar a utilização dos métodos de pesquisa do BeautifulSoup"
   ]
  },
  {
   "cell_type": "markdown",
   "metadata": {},
   "source": [
    "<img src=\"https://caelum-online-public.s3.amazonaws.com/1381-scraping/01/BeautifulSoup-method.png\" width=80%>"
   ]
  },
  {
   "cell_type": "markdown",
   "metadata": {},
   "source": [
    "---\n",
    "## Resultado"
   ]
  },
  {
   "cell_type": "code",
   "execution_count": null,
   "metadata": {},
   "outputs": [],
   "source": []
  },
  {
   "cell_type": "markdown",
   "metadata": {},
   "source": [
    "### Tratamentos para a string HTML"
   ]
  },
  {
   "cell_type": "code",
   "execution_count": null,
   "metadata": {},
   "outputs": [],
   "source": []
  },
  {
   "cell_type": "code",
   "execution_count": null,
   "metadata": {},
   "outputs": [],
   "source": []
  },
  {
   "cell_type": "markdown",
   "metadata": {},
   "source": [
    "### Criando o objeto BeautifulSoup"
   ]
  },
  {
   "cell_type": "code",
   "execution_count": null,
   "metadata": {
    "scrolled": true
   },
   "outputs": [],
   "source": []
  },
  {
   "cell_type": "markdown",
   "metadata": {},
   "source": [
    "### Parents"
   ]
  },
  {
   "cell_type": "code",
   "execution_count": null,
   "metadata": {},
   "outputs": [],
   "source": []
  },
  {
   "cell_type": "code",
   "execution_count": null,
   "metadata": {},
   "outputs": [],
   "source": []
  },
  {
   "cell_type": "code",
   "execution_count": null,
   "metadata": {},
   "outputs": [],
   "source": []
  },
  {
   "cell_type": "code",
   "execution_count": null,
   "metadata": {},
   "outputs": [],
   "source": []
  },
  {
   "cell_type": "code",
   "execution_count": null,
   "metadata": {},
   "outputs": [],
   "source": []
  },
  {
   "cell_type": "markdown",
   "metadata": {},
   "source": [
    "## Siblings"
   ]
  },
  {
   "cell_type": "code",
   "execution_count": null,
   "metadata": {},
   "outputs": [],
   "source": []
  },
  {
   "cell_type": "code",
   "execution_count": null,
   "metadata": {},
   "outputs": [],
   "source": []
  },
  {
   "cell_type": "code",
   "execution_count": null,
   "metadata": {},
   "outputs": [],
   "source": []
  },
  {
   "cell_type": "markdown",
   "metadata": {},
   "source": [
    "## Next e Previous"
   ]
  },
  {
   "cell_type": "code",
   "execution_count": null,
   "metadata": {},
   "outputs": [],
   "source": []
  },
  {
   "cell_type": "code",
   "execution_count": null,
   "metadata": {},
   "outputs": [],
   "source": []
  },
  {
   "cell_type": "code",
   "execution_count": null,
   "metadata": {},
   "outputs": [],
   "source": []
  },
  {
   "cell_type": "markdown",
   "metadata": {},
   "source": [
    "# <font color=green>5. WEB SCRAPING DO SITE ALURA MOTORS - OBTENDO OS DADOS DE UM ANÚNCIO"
   ]
  },
  {
   "cell_type": "markdown",
   "metadata": {},
   "source": [
    "# 5.1. Identificando e selecionando os dados no HTML"
   ]
  },
  {
   "cell_type": "markdown",
   "metadata": {},
   "source": [
    "### Obtendo o HTML e criando o objeto BeautifulSoup"
   ]
  },
  {
   "cell_type": "code",
   "execution_count": null,
   "metadata": {},
   "outputs": [],
   "source": []
  },
  {
   "cell_type": "markdown",
   "metadata": {},
   "source": [
    "### Criando variávels para armazenar informações"
   ]
  },
  {
   "cell_type": "code",
   "execution_count": null,
   "metadata": {},
   "outputs": [],
   "source": []
  },
  {
   "cell_type": "markdown",
   "metadata": {},
   "source": [
    "### Obtendo os dados do primeiro CARD"
   ]
  },
  {
   "cell_type": "code",
   "execution_count": null,
   "metadata": {
    "scrolled": false
   },
   "outputs": [],
   "source": []
  },
  {
   "cell_type": "markdown",
   "metadata": {},
   "source": [
    "# 5.2. Obtendo o VALOR do veículo anunciado"
   ]
  },
  {
   "cell_type": "code",
   "execution_count": null,
   "metadata": {},
   "outputs": [],
   "source": []
  },
  {
   "cell_type": "code",
   "execution_count": null,
   "metadata": {},
   "outputs": [],
   "source": []
  },
  {
   "cell_type": "code",
   "execution_count": null,
   "metadata": {},
   "outputs": [],
   "source": []
  },
  {
   "cell_type": "code",
   "execution_count": null,
   "metadata": {},
   "outputs": [],
   "source": []
  },
  {
   "cell_type": "code",
   "execution_count": null,
   "metadata": {},
   "outputs": [],
   "source": []
  },
  {
   "cell_type": "markdown",
   "metadata": {},
   "source": [
    "### <font color=red>Resumo"
   ]
  },
  {
   "cell_type": "code",
   "execution_count": null,
   "metadata": {},
   "outputs": [],
   "source": [
    "# Valor\n"
   ]
  },
  {
   "cell_type": "markdown",
   "metadata": {},
   "source": [
    "# 5.3. Obtendo as INFORMAÇÕES sobre o veículo anunciado"
   ]
  },
  {
   "cell_type": "code",
   "execution_count": null,
   "metadata": {},
   "outputs": [],
   "source": []
  },
  {
   "cell_type": "code",
   "execution_count": null,
   "metadata": {},
   "outputs": [],
   "source": []
  },
  {
   "cell_type": "code",
   "execution_count": null,
   "metadata": {},
   "outputs": [],
   "source": []
  },
  {
   "cell_type": "code",
   "execution_count": null,
   "metadata": {},
   "outputs": [],
   "source": []
  },
  {
   "cell_type": "code",
   "execution_count": null,
   "metadata": {},
   "outputs": [],
   "source": []
  },
  {
   "cell_type": "code",
   "execution_count": null,
   "metadata": {},
   "outputs": [],
   "source": []
  },
  {
   "cell_type": "code",
   "execution_count": null,
   "metadata": {},
   "outputs": [],
   "source": []
  },
  {
   "cell_type": "code",
   "execution_count": null,
   "metadata": {},
   "outputs": [],
   "source": []
  },
  {
   "cell_type": "markdown",
   "metadata": {},
   "source": [
    "### <font color=red>Resumo"
   ]
  },
  {
   "cell_type": "code",
   "execution_count": null,
   "metadata": {},
   "outputs": [],
   "source": [
    "# Informações\n"
   ]
  },
  {
   "cell_type": "markdown",
   "metadata": {},
   "source": [
    "# 5.4. Obtendo os ACESSÓRIOS do veículo anunciado"
   ]
  },
  {
   "cell_type": "code",
   "execution_count": null,
   "metadata": {},
   "outputs": [],
   "source": []
  },
  {
   "cell_type": "code",
   "execution_count": null,
   "metadata": {},
   "outputs": [],
   "source": []
  },
  {
   "cell_type": "code",
   "execution_count": null,
   "metadata": {},
   "outputs": [],
   "source": []
  },
  {
   "cell_type": "code",
   "execution_count": null,
   "metadata": {},
   "outputs": [],
   "source": []
  },
  {
   "cell_type": "code",
   "execution_count": null,
   "metadata": {},
   "outputs": [],
   "source": []
  },
  {
   "cell_type": "code",
   "execution_count": null,
   "metadata": {},
   "outputs": [],
   "source": []
  },
  {
   "cell_type": "code",
   "execution_count": null,
   "metadata": {},
   "outputs": [],
   "source": []
  },
  {
   "cell_type": "code",
   "execution_count": null,
   "metadata": {},
   "outputs": [],
   "source": []
  },
  {
   "cell_type": "markdown",
   "metadata": {},
   "source": [
    "### <font color=red>Resumo"
   ]
  },
  {
   "cell_type": "code",
   "execution_count": null,
   "metadata": {},
   "outputs": [],
   "source": [
    "# Acessórios\n"
   ]
  },
  {
   "cell_type": "markdown",
   "metadata": {},
   "source": [
    "# 5.5 Criando um DataFrame com os dados coletados do Alura Motors"
   ]
  },
  {
   "cell_type": "code",
   "execution_count": null,
   "metadata": {},
   "outputs": [],
   "source": []
  },
  {
   "cell_type": "code",
   "execution_count": null,
   "metadata": {},
   "outputs": [],
   "source": []
  },
  {
   "cell_type": "code",
   "execution_count": null,
   "metadata": {},
   "outputs": [],
   "source": []
  },
  {
   "cell_type": "code",
   "execution_count": null,
   "metadata": {},
   "outputs": [],
   "source": []
  },
  {
   "cell_type": "code",
   "execution_count": null,
   "metadata": {},
   "outputs": [],
   "source": []
  },
  {
   "cell_type": "code",
   "execution_count": null,
   "metadata": {},
   "outputs": [],
   "source": []
  },
  {
   "cell_type": "code",
   "execution_count": null,
   "metadata": {},
   "outputs": [],
   "source": []
  },
  {
   "cell_type": "code",
   "execution_count": null,
   "metadata": {},
   "outputs": [],
   "source": []
  },
  {
   "cell_type": "markdown",
   "metadata": {},
   "source": [
    "# 5.6. Obtendo a FOTO do anúncio"
   ]
  },
  {
   "cell_type": "code",
   "execution_count": null,
   "metadata": {},
   "outputs": [],
   "source": []
  },
  {
   "cell_type": "code",
   "execution_count": null,
   "metadata": {},
   "outputs": [],
   "source": []
  },
  {
   "cell_type": "code",
   "execution_count": null,
   "metadata": {},
   "outputs": [],
   "source": []
  },
  {
   "cell_type": "markdown",
   "metadata": {},
   "source": [
    "### Visualizando a FOTO no notebook (extra)"
   ]
  },
  {
   "cell_type": "code",
   "execution_count": null,
   "metadata": {},
   "outputs": [],
   "source": []
  },
  {
   "cell_type": "code",
   "execution_count": null,
   "metadata": {},
   "outputs": [],
   "source": []
  },
  {
   "cell_type": "markdown",
   "metadata": {},
   "source": [
    "### Rotina para acessar e salvar a FOTO do anúncio"
   ]
  },
  {
   "cell_type": "markdown",
   "metadata": {},
   "source": [
    "## https://docs.python.org/3/library/urllib.request.html#urllib.request.urlretrieve"
   ]
  },
  {
   "cell_type": "code",
   "execution_count": null,
   "metadata": {},
   "outputs": [],
   "source": []
  },
  {
   "cell_type": "code",
   "execution_count": null,
   "metadata": {},
   "outputs": [],
   "source": []
  },
  {
   "cell_type": "markdown",
   "metadata": {},
   "source": [
    "### <font color=red>Resumo"
   ]
  },
  {
   "cell_type": "code",
   "execution_count": null,
   "metadata": {},
   "outputs": [],
   "source": []
  },
  {
   "cell_type": "markdown",
   "metadata": {},
   "source": [
    "# <font color=green>6. WEB SCRAPING DO SITE ALURA MOTORS - OBTENDO OS DADOS DE TODOS OS ANÚNCIOS DE UMA PÁGINA"
   ]
  },
  {
   "cell_type": "markdown",
   "metadata": {},
   "source": [
    "# 6.1. Identificando as informações no HTML"
   ]
  },
  {
   "cell_type": "code",
   "execution_count": null,
   "metadata": {
    "scrolled": true
   },
   "outputs": [],
   "source": []
  },
  {
   "cell_type": "code",
   "execution_count": null,
   "metadata": {
    "scrolled": true
   },
   "outputs": [],
   "source": []
  },
  {
   "cell_type": "code",
   "execution_count": null,
   "metadata": {
    "scrolled": true
   },
   "outputs": [],
   "source": []
  },
  {
   "cell_type": "markdown",
   "metadata": {},
   "source": [
    "# 6.2. Criando uma rotina de scraping"
   ]
  },
  {
   "cell_type": "code",
   "execution_count": null,
   "metadata": {},
   "outputs": [],
   "source": []
  },
  {
   "cell_type": "code",
   "execution_count": null,
   "metadata": {},
   "outputs": [],
   "source": []
  },
  {
   "cell_type": "markdown",
   "metadata": {},
   "source": [
    "# <font color=green>7. WEB SCRAPING DO SITE ALURA MOTORS - OBTENDO OS DADOS DE TODOS OS ANÚNCIOS DO SITE"
   ]
  },
  {
   "cell_type": "markdown",
   "metadata": {},
   "source": [
    "# 7.1. Identificando as informações no HTML"
   ]
  },
  {
   "cell_type": "code",
   "execution_count": null,
   "metadata": {},
   "outputs": [],
   "source": []
  },
  {
   "cell_type": "code",
   "execution_count": null,
   "metadata": {
    "scrolled": true
   },
   "outputs": [],
   "source": []
  },
  {
   "cell_type": "code",
   "execution_count": null,
   "metadata": {},
   "outputs": [],
   "source": []
  },
  {
   "cell_type": "code",
   "execution_count": null,
   "metadata": {},
   "outputs": [],
   "source": []
  },
  {
   "cell_type": "code",
   "execution_count": null,
   "metadata": {},
   "outputs": [],
   "source": []
  },
  {
   "cell_type": "markdown",
   "metadata": {},
   "source": [
    "# 7.2. Criando uma rotina de scraping"
   ]
  },
  {
   "cell_type": "code",
   "execution_count": null,
   "metadata": {
    "scrolled": true
   },
   "outputs": [],
   "source": []
  },
  {
   "cell_type": "code",
   "execution_count": null,
   "metadata": {},
   "outputs": [],
   "source": []
  },
  {
   "cell_type": "code",
   "execution_count": null,
   "metadata": {},
   "outputs": [],
   "source": []
  },
  {
   "cell_type": "code",
   "execution_count": null,
   "metadata": {},
   "outputs": [],
   "source": []
  }
 ],
 "metadata": {
  "colab": {
   "name": "Untitled12.ipynb",
   "provenance": [],
   "version": "0.3.2"
  },
  "kernelspec": {
   "display_name": "Python 3 (ipykernel)",
   "language": "python",
   "name": "python3"
  },
  "language_info": {
   "codemirror_mode": {
    "name": "ipython",
    "version": 3
   },
   "file_extension": ".py",
   "mimetype": "text/x-python",
   "name": "python",
   "nbconvert_exporter": "python",
   "pygments_lexer": "ipython3",
   "version": "3.8.10"
  }
 },
 "nbformat": 4,
 "nbformat_minor": 1
}
